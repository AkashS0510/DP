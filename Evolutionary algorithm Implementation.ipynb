{
 "cells": [
  {
   "cell_type": "code",
   "execution_count": 1,
   "id": "e92500df",
   "metadata": {},
   "outputs": [],
   "source": [
    "import numpy as np\n",
    "import pandas as pd\n",
    "import matplotlib.pyplot as plt\n",
    "import seaborn as sns\n",
    "import random"
   ]
  },
  {
   "cell_type": "code",
   "execution_count": 2,
   "id": "27b8fa78",
   "metadata": {},
   "outputs": [],
   "source": [
    "df = pd.read_csv(\"Bank_Personal_Loan_Modelling.csv\")"
   ]
  },
  {
   "cell_type": "code",
   "execution_count": 3,
   "id": "b52c6461",
   "metadata": {
    "scrolled": true
   },
   "outputs": [
    {
     "name": "stdout",
     "output_type": "stream",
     "text": [
      "Shape :  (5000, 14)\n"
     ]
    },
    {
     "data": {
      "text/html": [
       "<div>\n",
       "<style scoped>\n",
       "    .dataframe tbody tr th:only-of-type {\n",
       "        vertical-align: middle;\n",
       "    }\n",
       "\n",
       "    .dataframe tbody tr th {\n",
       "        vertical-align: top;\n",
       "    }\n",
       "\n",
       "    .dataframe thead th {\n",
       "        text-align: right;\n",
       "    }\n",
       "</style>\n",
       "<table border=\"1\" class=\"dataframe\">\n",
       "  <thead>\n",
       "    <tr style=\"text-align: right;\">\n",
       "      <th></th>\n",
       "      <th>ID</th>\n",
       "      <th>Age</th>\n",
       "      <th>Experience</th>\n",
       "      <th>Income</th>\n",
       "      <th>ZIP Code</th>\n",
       "      <th>Family</th>\n",
       "      <th>CCAvg</th>\n",
       "      <th>Education</th>\n",
       "      <th>Mortgage</th>\n",
       "      <th>Personal Loan</th>\n",
       "      <th>Securities Account</th>\n",
       "      <th>CD Account</th>\n",
       "      <th>Online</th>\n",
       "      <th>CreditCard</th>\n",
       "    </tr>\n",
       "  </thead>\n",
       "  <tbody>\n",
       "    <tr>\n",
       "      <th>0</th>\n",
       "      <td>1</td>\n",
       "      <td>25</td>\n",
       "      <td>1</td>\n",
       "      <td>49</td>\n",
       "      <td>91107</td>\n",
       "      <td>4</td>\n",
       "      <td>1.6</td>\n",
       "      <td>1</td>\n",
       "      <td>0</td>\n",
       "      <td>0</td>\n",
       "      <td>1</td>\n",
       "      <td>0</td>\n",
       "      <td>0</td>\n",
       "      <td>0</td>\n",
       "    </tr>\n",
       "    <tr>\n",
       "      <th>1</th>\n",
       "      <td>2</td>\n",
       "      <td>45</td>\n",
       "      <td>19</td>\n",
       "      <td>34</td>\n",
       "      <td>90089</td>\n",
       "      <td>3</td>\n",
       "      <td>1.5</td>\n",
       "      <td>1</td>\n",
       "      <td>0</td>\n",
       "      <td>0</td>\n",
       "      <td>1</td>\n",
       "      <td>0</td>\n",
       "      <td>0</td>\n",
       "      <td>0</td>\n",
       "    </tr>\n",
       "    <tr>\n",
       "      <th>2</th>\n",
       "      <td>3</td>\n",
       "      <td>39</td>\n",
       "      <td>15</td>\n",
       "      <td>11</td>\n",
       "      <td>94720</td>\n",
       "      <td>1</td>\n",
       "      <td>1.0</td>\n",
       "      <td>1</td>\n",
       "      <td>0</td>\n",
       "      <td>0</td>\n",
       "      <td>0</td>\n",
       "      <td>0</td>\n",
       "      <td>0</td>\n",
       "      <td>0</td>\n",
       "    </tr>\n",
       "    <tr>\n",
       "      <th>3</th>\n",
       "      <td>4</td>\n",
       "      <td>35</td>\n",
       "      <td>9</td>\n",
       "      <td>100</td>\n",
       "      <td>94112</td>\n",
       "      <td>1</td>\n",
       "      <td>2.7</td>\n",
       "      <td>2</td>\n",
       "      <td>0</td>\n",
       "      <td>0</td>\n",
       "      <td>0</td>\n",
       "      <td>0</td>\n",
       "      <td>0</td>\n",
       "      <td>0</td>\n",
       "    </tr>\n",
       "    <tr>\n",
       "      <th>4</th>\n",
       "      <td>5</td>\n",
       "      <td>35</td>\n",
       "      <td>8</td>\n",
       "      <td>45</td>\n",
       "      <td>91330</td>\n",
       "      <td>4</td>\n",
       "      <td>1.0</td>\n",
       "      <td>2</td>\n",
       "      <td>0</td>\n",
       "      <td>0</td>\n",
       "      <td>0</td>\n",
       "      <td>0</td>\n",
       "      <td>0</td>\n",
       "      <td>1</td>\n",
       "    </tr>\n",
       "  </tbody>\n",
       "</table>\n",
       "</div>"
      ],
      "text/plain": [
       "   ID  Age  Experience  Income  ZIP Code  Family  CCAvg  Education  Mortgage  \\\n",
       "0   1   25           1      49     91107       4    1.6          1         0   \n",
       "1   2   45          19      34     90089       3    1.5          1         0   \n",
       "2   3   39          15      11     94720       1    1.0          1         0   \n",
       "3   4   35           9     100     94112       1    2.7          2         0   \n",
       "4   5   35           8      45     91330       4    1.0          2         0   \n",
       "\n",
       "   Personal Loan  Securities Account  CD Account  Online  CreditCard  \n",
       "0              0                   1           0       0           0  \n",
       "1              0                   1           0       0           0  \n",
       "2              0                   0           0       0           0  \n",
       "3              0                   0           0       0           0  \n",
       "4              0                   0           0       0           1  "
      ]
     },
     "execution_count": 3,
     "metadata": {},
     "output_type": "execute_result"
    }
   ],
   "source": [
    "print(\"Shape : \", df.shape)\n",
    "df.head()"
   ]
  },
  {
   "cell_type": "code",
   "execution_count": 4,
   "id": "6aa8d55a",
   "metadata": {},
   "outputs": [],
   "source": [
    "# Deleting Columns\n",
    "df.drop([\"ID\", \"ZIP Code\"],axis=1,inplace=True)\n",
    "df[\"Experience\"] = abs(df[\"Experience\"])"
   ]
  },
  {
   "cell_type": "code",
   "execution_count": 5,
   "id": "10481a9e",
   "metadata": {},
   "outputs": [
    {
     "data": {
      "text/plain": [
       "Index(['Age', 'Experience', 'Income', 'Family', 'CCAvg', 'Education',\n",
       "       'Mortgage', 'Personal Loan', 'Securities Account', 'CD Account',\n",
       "       'Online', 'CreditCard'],\n",
       "      dtype='object')"
      ]
     },
     "execution_count": 5,
     "metadata": {},
     "output_type": "execute_result"
    }
   ],
   "source": [
    "df.columns"
   ]
  },
  {
   "cell_type": "code",
   "execution_count": 6,
   "id": "c0df4086",
   "metadata": {},
   "outputs": [],
   "source": [
    "df = df[['Age', 'Experience', 'Income', 'Family', 'CCAvg','Education', 'Mortgage', 'Securities Account','CD Account', 'Online', 'CreditCard', 'Personal Loan']]"
   ]
  },
  {
   "cell_type": "code",
   "execution_count": 7,
   "id": "0b115140",
   "metadata": {},
   "outputs": [],
   "source": [
    "X = df.iloc[:,:-1].values\n",
    "Y = df.iloc[:,-1].values"
   ]
  },
  {
   "cell_type": "markdown",
   "id": "93f5a7aa",
   "metadata": {},
   "source": [
    "### Train Test Split"
   ]
  },
  {
   "cell_type": "code",
   "execution_count": 8,
   "id": "bcd06381",
   "metadata": {},
   "outputs": [],
   "source": [
    "x,y = X,Y"
   ]
  },
  {
   "cell_type": "code",
   "execution_count": 9,
   "id": "1d8cad0f",
   "metadata": {},
   "outputs": [],
   "source": [
    "from sklearn.model_selection import train_test_split\n",
    "\n",
    "x_train,x_test,y_train,y_test = train_test_split(x,y,test_size=0.25,random_state=69)"
   ]
  },
  {
   "cell_type": "code",
   "execution_count": 10,
   "id": "1b7bd982",
   "metadata": {},
   "outputs": [],
   "source": [
    "from sklearn.preprocessing import StandardScaler\n",
    "\n",
    "sc = StandardScaler()\n",
    "x_train = sc.fit_transform(x_train)\n",
    "x_test = sc.transform(x_test)"
   ]
  },
  {
   "cell_type": "code",
   "execution_count": 11,
   "id": "7433f158",
   "metadata": {},
   "outputs": [
    {
     "data": {
      "text/plain": [
       "((3750, 11), (3750,))"
      ]
     },
     "execution_count": 11,
     "metadata": {},
     "output_type": "execute_result"
    }
   ],
   "source": [
    "x_train.shape, y_train.shape"
   ]
  },
  {
   "cell_type": "markdown",
   "id": "c277b86d",
   "metadata": {},
   "source": [
    "# PyTorch "
   ]
  },
  {
   "cell_type": "code",
   "execution_count": 12,
   "id": "d1f1c3f1",
   "metadata": {},
   "outputs": [],
   "source": [
    "import torch\n",
    "from torch.utils.data import DataLoader, TensorDataset"
   ]
  },
  {
   "cell_type": "code",
   "execution_count": 13,
   "id": "5dd4e554",
   "metadata": {},
   "outputs": [],
   "source": [
    "BATCH_SIZE = 32\n",
    "LEARNING_RATE = 0.003\n",
    "EPOCH = 50"
   ]
  },
  {
   "cell_type": "code",
   "execution_count": 14,
   "id": "06861674",
   "metadata": {},
   "outputs": [
    {
     "data": {
      "text/plain": [
       "'cuda'"
      ]
     },
     "execution_count": 14,
     "metadata": {},
     "output_type": "execute_result"
    }
   ],
   "source": [
    "device = \"cuda\" if torch.cuda.is_available() else \"cpu\"\n",
    "device"
   ]
  },
  {
   "cell_type": "code",
   "execution_count": 15,
   "id": "53b5e253",
   "metadata": {},
   "outputs": [],
   "source": [
    "train_x = torch.from_numpy(x_train).to(torch.float32)\n",
    "train_y = torch.from_numpy(y_train).to(torch.float32)"
   ]
  },
  {
   "cell_type": "code",
   "execution_count": 16,
   "id": "a816e476",
   "metadata": {},
   "outputs": [
    {
     "data": {
      "text/plain": [
       "(torch.Size([3750, 11]), torch.Size([3750]))"
      ]
     },
     "execution_count": 16,
     "metadata": {},
     "output_type": "execute_result"
    }
   ],
   "source": [
    "train_x.shape, train_y.shape"
   ]
  },
  {
   "cell_type": "code",
   "execution_count": 17,
   "id": "83535d93",
   "metadata": {},
   "outputs": [],
   "source": [
    "data = TensorDataset(train_x,train_y)\n",
    "data = DataLoader(data,batch_size=BATCH_SIZE,shuffle=True)"
   ]
  },
  {
   "cell_type": "markdown",
   "id": "7f359adb",
   "metadata": {},
   "source": [
    "## Building Model"
   ]
  },
  {
   "cell_type": "code",
   "execution_count": 18,
   "id": "d4d0b641",
   "metadata": {},
   "outputs": [],
   "source": [
    "class Model(torch.nn.Module):\n",
    "    \n",
    "    def __init__(self):\n",
    "        super(Model,self).__init__()\n",
    "        \n",
    "        self.layer1 = torch.nn.Linear(11,16)\n",
    "        self.layer2 = torch.nn.Linear(16,1)\n",
    "        self.sigmoid = torch.nn.Sigmoid()\n",
    "        self.relu = torch.nn.ReLU()\n",
    "        \n",
    "    def forward(self, x):\n",
    "        x = self.layer1(x)\n",
    "        x = self.relu(x)\n",
    "        x = self.layer2(x)\n",
    "        x = self.sigmoid(x)\n",
    "        return x"
   ]
  },
  {
   "cell_type": "code",
   "execution_count": 19,
   "id": "4e1e2959",
   "metadata": {},
   "outputs": [
    {
     "name": "stdout",
     "output_type": "stream",
     "text": [
      "Model(\n",
      "  (layer1): Linear(in_features=11, out_features=16, bias=True)\n",
      "  (layer2): Linear(in_features=16, out_features=1, bias=True)\n",
      "  (sigmoid): Sigmoid()\n",
      "  (relu): ReLU()\n",
      ")\n"
     ]
    }
   ],
   "source": [
    "model = Model()\n",
    "# model.to(device)\n",
    "print(model)"
   ]
  },
  {
   "cell_type": "markdown",
   "id": "0692462e",
   "metadata": {},
   "source": [
    "## Defining Loss function and Optimizer"
   ]
  },
  {
   "cell_type": "code",
   "execution_count": 20,
   "id": "11760630",
   "metadata": {},
   "outputs": [],
   "source": [
    "loss_function = torch.nn.BCELoss()\n",
    "optimizer = torch.optim.Adam(model.parameters(),lr=LEARNING_RATE)"
   ]
  },
  {
   "cell_type": "markdown",
   "id": "7b84670b",
   "metadata": {},
   "source": [
    "## Training"
   ]
  },
  {
   "cell_type": "code",
   "execution_count": 21,
   "id": "33818458",
   "metadata": {
    "scrolled": false
   },
   "outputs": [
    {
     "name": "stdout",
     "output_type": "stream",
     "text": [
      "10 0.06616834358274937 0.9762666666666666\n",
      "20 0.05173256015777588 0.9808\n",
      "30 0.04539471660504738 0.9848\n",
      "40 0.04151624689574043 0.9864\n",
      "50 0.03941767498505845 0.9888\n"
     ]
    }
   ],
   "source": [
    "training_loss = [0]*EPOCH\n",
    "training_accuracy = [0]*EPOCH\n",
    "\n",
    "for i in range(1,EPOCH+1):\n",
    "    epoch_loss = 0\n",
    "    accuracy = 0\n",
    "    for x_batch,y_batch in data:\n",
    "        # x_batch,y_batch = x_batch.to(device),y_batch.to(device)\n",
    "        optimizer.zero_grad()\n",
    "        \n",
    "        y_pred = model(x_batch)\n",
    "        \n",
    "        loss = loss_function(y_pred,y_batch.unsqueeze(1))\n",
    "        loss.backward()\n",
    "        \n",
    "        optimizer.step()\n",
    "        epoch_loss += loss.item() * len(x_batch)\n",
    "        cnt = (torch.where(y_pred>=0.5, 1, 0) == y_batch.unsqueeze(1)).sum().float()\n",
    "        accuracy += cnt.item()\n",
    "    if(i%10 == 0):\n",
    "        print(i,epoch_loss/len(data.dataset),(accuracy)/len(data.dataset))"
   ]
  },
  {
   "cell_type": "markdown",
   "id": "b5e416a6",
   "metadata": {},
   "source": [
    "## Testing "
   ]
  },
  {
   "cell_type": "code",
   "execution_count": 22,
   "id": "136df251",
   "metadata": {},
   "outputs": [],
   "source": [
    "test_x = torch.from_numpy(x_test).to(torch.float32)\n",
    "test_y = torch.from_numpy(y_test).to(torch.float32)"
   ]
  },
  {
   "cell_type": "code",
   "execution_count": 23,
   "id": "a0cc2232",
   "metadata": {},
   "outputs": [],
   "source": [
    "test = TensorDataset(test_x,test_y)\n",
    "test = DataLoader(test,batch_size=1)"
   ]
  },
  {
   "cell_type": "code",
   "execution_count": 24,
   "id": "563ce588",
   "metadata": {},
   "outputs": [
    {
     "name": "stdout",
     "output_type": "stream",
     "text": [
      "0.9824\n"
     ]
    }
   ],
   "source": [
    "y_pred = model(test_x)\n",
    "y_pred = torch.where(y_pred>=0.5, 1, 0).flatten()\n",
    "accuracy = (y_pred == test_y).sum().float().item() / len(test.dataset)\n",
    "print(accuracy)"
   ]
  },
  {
   "cell_type": "code",
   "execution_count": 25,
   "id": "2f3986e0",
   "metadata": {},
   "outputs": [
    {
     "name": "stdout",
     "output_type": "stream",
     "text": [
      "              precision    recall  f1-score   support\n",
      "\n",
      "           0       0.99      0.99      0.99      1135\n",
      "           1       0.90      0.90      0.90       115\n",
      "\n",
      "    accuracy                           0.98      1250\n",
      "   macro avg       0.95      0.95      0.95      1250\n",
      "weighted avg       0.98      0.98      0.98      1250\n",
      "\n"
     ]
    }
   ],
   "source": [
    "from sklearn.metrics import classification_report\n",
    "py_report=classification_report(y_pred,test_y)\n",
    "print(py_report)"
   ]
  },
  {
   "cell_type": "markdown",
   "id": "10c88834",
   "metadata": {},
   "source": [
    "## Genetic Algorithm"
   ]
  },
  {
   "cell_type": "code",
   "execution_count": 26,
   "id": "cf396cd9",
   "metadata": {},
   "outputs": [],
   "source": [
    "BATCH_SIZE = 1"
   ]
  },
  {
   "cell_type": "code",
   "execution_count": 27,
   "id": "4347dc2d",
   "metadata": {},
   "outputs": [],
   "source": [
    "data = TensorDataset(train_x,train_y)\n",
    "data = DataLoader(data,batch_size=BATCH_SIZE,shuffle=True)"
   ]
  },
  {
   "cell_type": "code",
   "execution_count": 28,
   "id": "4a367519",
   "metadata": {},
   "outputs": [],
   "source": [
    "# Accuracy \n",
    "def fitness_function(model):\n",
    "    \n",
    "    y_pred = model(train_x)\n",
    "    y_pred = torch.where(y_pred>=0.5, 1, 0).flatten()\n",
    "    accuracy = (y_pred == train_y).sum().float().item() / len(data.dataset)\n",
    "    \n",
    "    return accuracy"
   ]
  },
  {
   "cell_type": "code",
   "execution_count": 29,
   "id": "34a6792f",
   "metadata": {},
   "outputs": [],
   "source": [
    "# Crossover and Mutation\n",
    "def crossover_mutation(model1,model2):\n",
    "    # Shape of the weights and biases\n",
    "    shp = [i.numpy().shape for i in model1.parameters()]\n",
    "    sz = [i[0]*i[1] if len(i) == 2 else i[0] for i in shp]\n",
    "    \n",
    "    # Flattening the parameters for cross over\n",
    "    matrix_1 = np.concatenate([i.numpy().flatten() for i in model1.parameters()])\n",
    "    matrix_2 = np.concatenate([i.numpy().flatten() for i in model2.parameters()])\n",
    "    \n",
    "    # Crossover\n",
    "    start = len(matrix_1)//2 - 10\n",
    "    end = len(matrix_1)//2 + 10\n",
    "    mid_value = random.randrange(start,end)\n",
    "    \n",
    "    main_child_1 = np.concatenate([matrix_1[:mid_value], matrix_2[mid_value:]])\n",
    "    main_child_2 = np.concatenate([matrix_2[:mid_value], matrix_1[mid_value:]])\n",
    "    \n",
    "    # Child 1 Mutation\n",
    "    random_start = random.randrange(0,len(matrix_1)//2)\n",
    "    random_end = random.randrange(random_start,len(matrix_1))\n",
    "    \n",
    "    child_1_mutate = main_child_1.copy()\n",
    "    child_1_mutate[random_start:random_end] = child_1_mutate[random_start:random_end][::-1]\n",
    "    \n",
    "    # Child 2 Mutation\n",
    "    random_start = random.randrange(0,len(matrix_1)//2)\n",
    "    random_end = random.randrange(random_start,len(matrix_1))\n",
    "    \n",
    "    child_2_mutate = main_child_2.copy()\n",
    "    child_2_mutate[random_start:random_end] = child_2_mutate[random_start:random_end][::-1]\n",
    "    \n",
    "    # Converting the array to parameters\n",
    "    children = [main_child_1, main_child_2, child_1_mutate, child_2_mutate]\n",
    "    output = list()\n",
    "    \n",
    "    for child in children:\n",
    "        param = list()\n",
    "        cum_sum = 0\n",
    "        for i in range(len(sz)):\n",
    "            array = child[cum_sum : cum_sum + sz[i]]\n",
    "            array = array.reshape(shp[i])\n",
    "            cum_sum += sz[i]\n",
    "            param.append(array)\n",
    "        param = np.array(param, dtype=\"object\")\n",
    "        output.append(param)\n",
    "    \n",
    "    output = np.array(output, dtype=\"object\")\n",
    "    return output"
   ]
  },
  {
   "cell_type": "code",
   "execution_count": 30,
   "id": "b946168a",
   "metadata": {},
   "outputs": [],
   "source": [
    "# Training \n",
    "\n",
    "torch.manual_seed(69)\n",
    "torch.set_grad_enabled(False)\n",
    "population_size = 10\n",
    "\n",
    "def train(no):\n",
    "    # Initial Population\n",
    "    population = np.array([Model() for i in range(population_size)])\n",
    "    \n",
    "    best_model = None\n",
    "    \n",
    "    for loop in range(no):\n",
    "        # Sort population based up on fitness function\n",
    "        population = population[np.argsort([fitness_function(model) for model in population])]\n",
    "        \n",
    "        # Printing Max Accuracy\n",
    "        best_model = population[-1]\n",
    "        if(loop%10 == 0):\n",
    "            print(\"Gen\", loop, \" :\", fitness_function(population[-1]))\n",
    "        \n",
    "        # Parent Selection\n",
    "        parent_max_1 = population[-1]\n",
    "        parent_max_2 = population[-2]\n",
    "        parent_max_3 = population[-3]\n",
    "        parent_max_4 = population[-4] \n",
    "        parent_1 = population[0]\n",
    "        parent_2 = population[1]\n",
    "        \n",
    "        # Crossover\n",
    "        output_1 = crossover_mutation(parent_max_1, parent_max_3)\n",
    "        output_2 = crossover_mutation(parent_max_2, parent_max_4)\n",
    "        output = np.concatenate([output_1, output_2])\n",
    "        \n",
    "        # New population\n",
    "        new_population = np.array([Model() for i in range(len(output))])\n",
    "        for count, model in enumerate(new_population, 0):\n",
    "            for index, param in enumerate(model.parameters(), 0):\n",
    "                param.data = (torch.tensor(output[count][index]))\n",
    "        \n",
    "        # Add Poor performing parent to the new population\n",
    "        new_population = np.concatenate([new_population, [parent_1, parent_2]])\n",
    "        \n",
    "        # New population becomes your next population\n",
    "        population = new_population.copy()\n",
    "        \n",
    "    return best_model"
   ]
  },
  {
   "cell_type": "code",
   "execution_count": 31,
   "id": "47f73112",
   "metadata": {},
   "outputs": [
    {
     "name": "stdout",
     "output_type": "stream",
     "text": [
      "Gen 0  : 0.824\n",
      "Gen 10  : 0.9168\n",
      "Gen 20  : 0.9226666666666666\n",
      "Gen 30  : 0.9272\n",
      "Gen 40  : 0.9285333333333333\n",
      "Gen 50  : 0.9293333333333333\n",
      "Gen 60  : 0.9309333333333333\n",
      "Gen 70  : 0.9314666666666667\n",
      "Gen 80  : 0.9274666666666667\n",
      "Gen 90  : 0.9338666666666666\n"
     ]
    }
   ],
   "source": [
    "best = train(100)"
   ]
  },
  {
   "cell_type": "markdown",
   "id": "71a3cbf4",
   "metadata": {},
   "source": [
    "## Testing"
   ]
  },
  {
   "cell_type": "code",
   "execution_count": 32,
   "id": "49708427",
   "metadata": {},
   "outputs": [
    {
     "name": "stdout",
     "output_type": "stream",
     "text": [
      "              precision    recall  f1-score   support\n",
      "\n",
      "           0       0.99      0.95      0.97      1177\n",
      "           1       0.50      0.79      0.62        73\n",
      "\n",
      "    accuracy                           0.94      1250\n",
      "   macro avg       0.75      0.87      0.79      1250\n",
      "weighted avg       0.96      0.94      0.95      1250\n",
      "\n"
     ]
    }
   ],
   "source": [
    "y_pred = best(test_x)\n",
    "y_pred = torch.where(y_pred>=0.5, 1, 0).flatten()\n",
    "ga_report=classification_report(y_pred,test_y)\n",
    "print(ga_report)"
   ]
  },
  {
   "cell_type": "markdown",
   "id": "2eb00114",
   "metadata": {},
   "source": [
    "## Particle Swarm"
   ]
  },
  {
   "cell_type": "code",
   "execution_count": 33,
   "id": "5b64ff62",
   "metadata": {},
   "outputs": [
    {
     "name": "stdout",
     "output_type": "stream",
     "text": [
      "Dim :  209\n",
      "Layers Shape :  [(16, 11), (16,), (1, 16), (1,)]\n",
      "Layers Size :  [176, 16, 16, 1]\n"
     ]
    }
   ],
   "source": [
    "from pyswarms.single import GlobalBestPSO\n",
    "torch.manual_seed(420)\n",
    "torch.set_grad_enabled(False)\n",
    "\n",
    "model = Model()\n",
    "param = np.concatenate([i.numpy().flatten() for i in model.parameters()])\n",
    "shape = [i.numpy().shape for i in model.parameters()]\n",
    "size = [i[0]*i[1] if len(i) == 2 else i[0] for i in shape]\n",
    "\n",
    "print(\"Dim : \", len(param))\n",
    "print(\"Layers Shape : \", shape)\n",
    "print(\"Layers Size : \", size)"
   ]
  },
  {
   "cell_type": "code",
   "execution_count": 34,
   "id": "e94177fa",
   "metadata": {},
   "outputs": [],
   "source": [
    "def objective_function(particle,shape=shape,size=size):\n",
    "    accuracy = []\n",
    "    output = []\n",
    "    \n",
    "    # Reshape the vector to weights and biases dimention\n",
    "    for par in particle:\n",
    "        param = list()\n",
    "        cum_sum = 0\n",
    "        for i in range(len(size)):\n",
    "            array = par[cum_sum : cum_sum + size[i]]\n",
    "            array = array.reshape(shape[i])\n",
    "            cum_sum += size[i]\n",
    "            param.append(array)\n",
    "        param = np.array(param, dtype=\"object\")\n",
    "        output.append(param)\n",
    "    \n",
    "    for i in range(len(output)):\n",
    "        # Copy Weights and Biases\n",
    "        model = Model()\n",
    "        for idx,wei in enumerate(model.parameters()):\n",
    "            wei.data = (torch.tensor(output[i][idx])).to(torch.float32)\n",
    "        \n",
    "        # Calculate Accuracy\n",
    "        y_pred = model(train_x)\n",
    "        y_pred = torch.where(y_pred>=0.5, 1, 0).flatten()\n",
    "        acc = (y_pred == train_y).sum().float().item() / len(data.dataset)\n",
    "        accuracy.append(1 - acc) # Optimization function aims to reduce the cost so (1 - accuracy)\n",
    "        \n",
    "    return accuracy"
   ]
  },
  {
   "cell_type": "code",
   "execution_count": 35,
   "id": "fc01b8c4",
   "metadata": {},
   "outputs": [],
   "source": [
    "# Tunable Parameters\n",
    "\n",
    "options = {'c1': 0.6, 'c2': 0.3, 'w': 0.1}\n",
    "dim = len(param)\n",
    "x_max = 1.0 * np.ones(dim)\n",
    "x_min = -1.0 * x_max\n",
    "bounds = (x_min, x_max)\n",
    "\n",
    "pso = GlobalBestPSO(n_particles=500, dimensions=209, options=options, bounds=bounds)"
   ]
  },
  {
   "cell_type": "code",
   "execution_count": 36,
   "id": "5a2b9fdb",
   "metadata": {},
   "outputs": [
    {
     "name": "stderr",
     "output_type": "stream",
     "text": [
      "2023-04-05 20:08:57,433 - pyswarms.single.global_best - INFO - Optimize for 50 iters with {'c1': 0.6, 'c2': 0.3, 'w': 0.1}\n",
      "pyswarms.single.global_best: 100%|█████████████████████████████████████████████████████████████|50/50, best_cost=0.0501\n",
      "2023-04-05 20:09:11,935 - pyswarms.single.global_best - INFO - Optimization finished | best cost: 0.05013333333333336, best pos: [-2.28631325e-01  1.61860515e-01 -6.81710081e-02  4.13859248e-02\n",
      " -1.90679893e-02 -6.66993068e-02  1.92831548e-02  4.93720764e-02\n",
      " -1.35518054e-01 -5.28986331e-01 -3.46253581e-01  1.77460687e-01\n",
      " -1.19452809e-01 -3.74320607e-02 -1.87057597e-01  3.51452674e-01\n",
      " -3.27804575e-01 -2.80027165e-02  9.15182676e-02  2.46471857e-01\n",
      " -1.76845173e-01 -1.99526857e-01 -1.21187558e-01  1.31216979e-02\n",
      " -1.47093446e-01  3.01246754e-02 -3.26141067e-01  1.25026550e-01\n",
      " -8.22692436e-02  3.23838770e-02  3.18773794e-02  4.62390839e-01\n",
      "  1.01897497e-01  2.46071010e-01  4.28089126e-02 -6.01159719e-01\n",
      "  1.89108464e-01  5.06860102e-02  7.51717301e-02 -1.62579248e-01\n",
      "  3.55649457e-01  2.69273096e-01  2.95212592e-01  1.75861698e-01\n",
      "  3.13099317e-01  2.13792750e-01 -2.86936527e-01 -2.51397616e-01\n",
      " -3.61528610e-01  4.58680203e-01 -8.07549604e-02 -1.88894830e-01\n",
      "  9.90136940e-02  1.09762936e-01  2.89989169e-01 -1.77837829e-01\n",
      " -1.68422823e-01  9.33123775e-03 -3.92944521e-01 -1.07138372e-01\n",
      "  1.68663955e-01  5.66014644e-02 -5.59548654e-01 -5.45908761e-02\n",
      " -5.24189573e-02 -2.24201866e-01  3.03974152e-01  1.85582148e-01\n",
      " -1.56328912e-01  8.79468950e-02 -2.16861420e-02  2.53647834e-01\n",
      " -3.83386407e-01  1.56333690e-02 -1.17684261e-01  2.49176368e-02\n",
      "  3.73991286e-01 -2.58438418e-02 -6.75158386e-03  3.92477334e-01\n",
      " -3.04443099e-01 -8.45976137e-02  4.91479596e-01 -3.49093879e-01\n",
      "  2.13961477e-01  5.98170602e-01  7.05460062e-02  5.99722698e-03\n",
      "  4.20519415e-01  7.49225679e-02  1.24427639e-02 -4.09133897e-01\n",
      " -3.40049664e-02  7.68477367e-02  1.96568578e-01 -9.75732551e-02\n",
      "  3.51600886e-02  1.69921168e-01  1.83383350e-01  9.43426129e-02\n",
      "  1.55521958e-01 -1.77639439e-01  4.34308430e-02 -1.11328155e-01\n",
      "  9.60957991e-02 -5.94267056e-02  3.79028268e-01  2.24980471e-01\n",
      " -1.33468048e-01  3.00761402e-02  2.06850249e-01 -8.51184737e-02\n",
      "  3.81742452e-01 -1.81135379e-01  4.39308921e-02  4.21667964e-01\n",
      "  2.74903834e-01  1.51846233e-01  2.45624743e-01  1.90486101e-01\n",
      " -2.56608064e-01  1.44572887e-01 -1.36932801e-02  3.89237602e-02\n",
      "  1.97458359e-01 -1.18266060e-01 -1.02340563e-01  2.26020184e-04\n",
      "  2.69524656e-01 -7.95474581e-02 -2.01191211e-02 -1.64975666e-01\n",
      " -6.42246445e-02 -2.03175828e-01 -1.41427509e-01  1.44849420e-01\n",
      " -2.54138838e-01 -6.56984173e-03 -2.47882547e-04  9.97247157e-02\n",
      " -3.25011293e-02 -4.61830993e-01  3.41134481e-02  1.83885872e-01\n",
      " -5.53829635e-02  3.04228034e-02  2.90088587e-01  2.00994869e-01\n",
      "  1.89750405e-01 -1.02917981e-01  3.97212758e-01 -8.48579316e-02\n",
      "  1.19306043e-01  4.59011934e-02  3.55614614e-01  1.75554093e-01\n",
      "  4.13958773e-02 -2.88088588e-01  8.43200124e-02  6.92152987e-02\n",
      " -9.13219910e-02  6.46879631e-02  5.51192834e-01 -1.97012744e-01\n",
      "  3.01710024e-01  2.05740202e-01  2.00556082e-01  2.69233963e-01\n",
      "  2.63133006e-01  2.20990705e-01 -5.52430643e-02 -7.51695532e-02\n",
      "  2.89055802e-03  3.23149622e-01  2.42766802e-01  2.29681204e-01\n",
      "  4.32706719e-01 -1.20224527e-01  3.68236035e-01  2.17066020e-01\n",
      "  1.33660337e-01  7.59511934e-02  2.75312240e-01 -1.64164930e-01\n",
      "  1.74157374e-01  3.25442224e-02  2.07755137e-01  2.88845506e-02\n",
      " -2.95972509e-02 -2.96751337e-01 -1.27144406e-01  1.84268059e-01\n",
      " -2.36832645e-01 -2.35691700e-01 -5.00963985e-01 -1.70466144e-01\n",
      " -2.15727599e-01 -2.99345178e-01  2.43936461e-01  4.08643275e-01\n",
      " -1.91308437e-01 -3.20208035e-01  2.63030520e-01 -2.01519601e-01\n",
      " -2.34117253e-01 -1.59740278e-02 -2.67058131e-04 -3.72656902e-02\n",
      " -6.04836963e-02]\n"
     ]
    },
    {
     "name": "stdout",
     "output_type": "stream",
     "text": [
      "Accuracy :  0.9498666666666666\n"
     ]
    }
   ],
   "source": [
    "best_cost, best_parameters = pso.optimize(objective_function, iters=50)\n",
    "print(\"Accuracy : \", 1 - best_cost)"
   ]
  },
  {
   "cell_type": "code",
   "execution_count": 37,
   "id": "6afe08a1",
   "metadata": {},
   "outputs": [
    {
     "name": "stdout",
     "output_type": "stream",
     "text": [
      "Accuracy :  0.9498666666666666\n"
     ]
    }
   ],
   "source": [
    "# Converting the best vector to model\n",
    "\n",
    "result = []\n",
    "for par in [best_parameters]:\n",
    "    param = list()\n",
    "    cum_sum = 0\n",
    "    for i in range(len(size)):\n",
    "        array = par[cum_sum : cum_sum + size[i]]\n",
    "        array = array.reshape(shape[i])\n",
    "        cum_sum += size[i]\n",
    "        param.append(array)\n",
    "    param = np.array(param, dtype=\"object\")\n",
    "    result.append(param)\n",
    "\n",
    "best_model = Model()\n",
    "for idx,wei in enumerate(best_model.parameters()):\n",
    "    wei.data = (torch.tensor(result[0][idx])).to(torch.float32)\n",
    "\n",
    "# Calculate Accuracy\n",
    "y_pred = best_model(train_x)\n",
    "y_pred = torch.where(y_pred>=0.5, 1, 0).flatten()\n",
    "acc = (y_pred == train_y).sum().float().item() / len(data.dataset)\n",
    "print(\"Accuracy : \", acc)"
   ]
  },
  {
   "cell_type": "markdown",
   "id": "0b63e160",
   "metadata": {},
   "source": [
    "## Testing"
   ]
  },
  {
   "cell_type": "code",
   "execution_count": 38,
   "id": "f02b7b5c",
   "metadata": {},
   "outputs": [
    {
     "name": "stdout",
     "output_type": "stream",
     "text": [
      "              precision    recall  f1-score   support\n",
      "\n",
      "           0       0.99      0.95      0.97      1175\n",
      "           1       0.51      0.79      0.62        75\n",
      "\n",
      "    accuracy                           0.94      1250\n",
      "   macro avg       0.75      0.87      0.79      1250\n",
      "weighted avg       0.96      0.94      0.95      1250\n",
      "\n"
     ]
    }
   ],
   "source": [
    "y_pred = best_model(test_x)\n",
    "y_pred = torch.where(y_pred>=0.5, 1, 0).flatten()\n",
    "ps_report=classification_report(y_pred,test_y)\n",
    "print(ps_report)"
   ]
  },
  {
   "cell_type": "markdown",
   "id": "470ea473",
   "metadata": {},
   "source": [
    "## Ant Colony"
   ]
  },
  {
   "cell_type": "code",
   "execution_count": 39,
   "id": "f5f8419b",
   "metadata": {},
   "outputs": [
    {
     "data": {
      "text/plain": [
       "<torch.autograd.grad_mode.set_grad_enabled at 0x197f4308040>"
      ]
     },
     "execution_count": 39,
     "metadata": {},
     "output_type": "execute_result"
    }
   ],
   "source": [
    "torch.manual_seed(6699)\n",
    "torch.set_grad_enabled(False)"
   ]
  },
  {
   "cell_type": "code",
   "execution_count": 40,
   "id": "2bc6de73",
   "metadata": {},
   "outputs": [
    {
     "name": "stdout",
     "output_type": "stream",
     "text": [
      "Dim :  209\n",
      "Layers Shape :  [(16, 11), (16,), (1, 16), (1,)]\n",
      "Layers Size :  [176, 16, 16, 1]\n"
     ]
    }
   ],
   "source": [
    "dummy = Model()\n",
    "dummy_param = np.concatenate([i.numpy().flatten() for i in dummy.parameters()])\n",
    "shape = [i.numpy().shape for i in model.parameters()]\n",
    "size = [i[0]*i[1] if len(i) == 2 else i[0] for i in shape]\n",
    "dim = len(dummy_param)\n",
    "\n",
    "print(\"Dim : \", dim)\n",
    "print(\"Layers Shape : \", shape)\n",
    "print(\"Layers Size : \", size)\n",
    "\n",
    "dummy = None\n",
    "dummy_param = None"
   ]
  },
  {
   "cell_type": "code",
   "execution_count": 41,
   "id": "51563f8b",
   "metadata": {},
   "outputs": [],
   "source": [
    "# Helper Functions\n",
    "\n",
    "def model_to_vector(model):\n",
    "    vector = np.concatenate([i.numpy().flatten() for i in model.parameters()])\n",
    "    return vector\n",
    "    \n",
    "def vector_to_model(vector):\n",
    "    param = list()\n",
    "    cum_sum = 0\n",
    "    for i in range(len(size)):\n",
    "        array = vector[cum_sum : cum_sum + size[i]]\n",
    "        array = array.reshape(shape[i])\n",
    "        cum_sum += size[i]\n",
    "        param.append(array)\n",
    "    param = np.array(param, dtype=\"object\")\n",
    "    \n",
    "    dummy_model = Model()\n",
    "    for idx,wei in enumerate(dummy_model.parameters()):\n",
    "        wei.data = (torch.tensor(param[idx])).to(torch.float32)\n",
    "        \n",
    "    return dummy_model    \n",
    "\n",
    "def calc_accuracy(model):\n",
    "    y_pred = model(train_x)\n",
    "    y_pred = torch.where(y_pred>=0.5, 1, 0).flatten()\n",
    "    acc = (y_pred == train_y).sum().float().item() / len(data.dataset)\n",
    "    \n",
    "    return acc"
   ]
  },
  {
   "cell_type": "code",
   "execution_count": 42,
   "id": "88674ed7",
   "metadata": {},
   "outputs": [],
   "source": [
    "ants = 10\n",
    "loops = 100\n",
    "evaporation_rate = 0.2\n",
    "influence_factor = 0.4"
   ]
  },
  {
   "cell_type": "code",
   "execution_count": 43,
   "id": "336064a3",
   "metadata": {},
   "outputs": [
    {
     "name": "stdout",
     "output_type": "stream",
     "text": [
      "Iters 0 : 0.9016\n",
      "Iters 10 : 0.9026666666666666\n",
      "Iters 20 : 0.9026666666666666\n",
      "Iters 30 : 0.9026666666666666\n",
      "Iters 40 : 0.9029333333333334\n",
      "Iters 50 : 0.9026666666666666\n",
      "Iters 60 : 0.9026666666666666\n",
      "Iters 70 : 0.9130666666666667\n",
      "Iters 80 : 0.9026666666666666\n",
      "Iters 90 : 0.9021333333333333\n"
     ]
    }
   ],
   "source": [
    "pheromones = np.ones(dim)\n",
    "max_accuracy = 0\n",
    "fittest_vector = None\n",
    "\n",
    "for loop in range(loops):\n",
    "    # Generate Solution\n",
    "    paths = np.array([Model() for i in range(ants)])\n",
    "    accuracy = []\n",
    "    \n",
    "    for ant in range(ants):\n",
    "        # Flatten the weights and biases\n",
    "        vector = model_to_vector(paths[ant])\n",
    "        \n",
    "        # Multiply with pheromones \n",
    "        vector = vector * pheromones\n",
    "        \n",
    "        # Calculate Accuracy and Append to the list\n",
    "        model = vector_to_model(vector)\n",
    "        acc = calc_accuracy(model)\n",
    "        accuracy.append(acc)\n",
    "        \n",
    "        # Update the updated path\n",
    "        paths[ant] = model\n",
    "        \n",
    "        # Reset\n",
    "        model = None\n",
    "        acc = None\n",
    "        \n",
    "    # Select fittest path and accuracy\n",
    "    paths = paths[np.argsort(accuracy)]\n",
    "    \n",
    "    if accuracy[np.argmax(accuracy)] > max_accuracy:\n",
    "        max_accuracy = accuracy[np.argmax(accuracy)]\n",
    "        fittest_vector = model_to_vector(paths[-1])\n",
    "    \n",
    "    # Update pheromones\n",
    "    delta = 0\n",
    "    for ant in range(ants):\n",
    "        # Flatten the weights and biases\n",
    "        vector = model_to_vector(paths[ant])\n",
    "        \n",
    "        # Calculate delta\n",
    "        delta += (vector - fittest_vector)*influence_factor\n",
    "        \n",
    "    pheromones = (1-pheromones)*evaporation_rate + delta\n",
    "    \n",
    "    if loop%10 == 0:\n",
    "        print(\"Iters {} :\".format(loop), calc_accuracy(paths[-1]))"
   ]
  },
  {
   "cell_type": "markdown",
   "id": "6745458f",
   "metadata": {},
   "source": [
    "## Testing"
   ]
  },
  {
   "cell_type": "code",
   "execution_count": 44,
   "id": "d9cf266b",
   "metadata": {},
   "outputs": [
    {
     "name": "stdout",
     "output_type": "stream",
     "text": [
      "              precision    recall  f1-score   support\n",
      "\n",
      "           0       0.99      0.95      0.97      1175\n",
      "           1       0.51      0.79      0.62        75\n",
      "\n",
      "    accuracy                           0.94      1250\n",
      "   macro avg       0.75      0.87      0.79      1250\n",
      "weighted avg       0.96      0.94      0.95      1250\n",
      "\n"
     ]
    }
   ],
   "source": [
    "y_pred = best_model(test_x)\n",
    "y_pred = torch.where(y_pred>=0.5, 1, 0).flatten()\n",
    "aco_report=classification_report(y_pred,test_y)\n",
    "print(classification_report(y_pred,test_y))"
   ]
  },
  {
   "cell_type": "code",
   "execution_count": 45,
   "id": "539751db",
   "metadata": {},
   "outputs": [
    {
     "name": "stdout",
     "output_type": "stream",
     "text": [
      "              precision    recall  f1-score   support\n",
      "\n",
      "           0       0.99      0.95      0.97      1177\n",
      "           1       0.50      0.79      0.62        73\n",
      "\n",
      "    accuracy                           0.94      1250\n",
      "   macro avg       0.75      0.87      0.79      1250\n",
      "weighted avg       0.96      0.94      0.95      1250\n",
      "\n"
     ]
    }
   ],
   "source": [
    "print(ga_report)"
   ]
  },
  {
   "cell_type": "code",
   "execution_count": 46,
   "id": "d8840a48",
   "metadata": {},
   "outputs": [
    {
     "name": "stdout",
     "output_type": "stream",
     "text": [
      "              precision    recall  f1-score   support\n",
      "\n",
      "           0       0.99      0.99      0.99      1135\n",
      "           1       0.90      0.90      0.90       115\n",
      "\n",
      "    accuracy                           0.98      1250\n",
      "   macro avg       0.95      0.95      0.95      1250\n",
      "weighted avg       0.98      0.98      0.98      1250\n",
      "\n"
     ]
    }
   ],
   "source": [
    "print(py_report)"
   ]
  },
  {
   "cell_type": "code",
   "execution_count": 47,
   "id": "78f42123",
   "metadata": {},
   "outputs": [
    {
     "name": "stdout",
     "output_type": "stream",
     "text": [
      "              precision    recall  f1-score   support\n",
      "\n",
      "           0       0.99      0.95      0.97      1175\n",
      "           1       0.51      0.79      0.62        75\n",
      "\n",
      "    accuracy                           0.94      1250\n",
      "   macro avg       0.75      0.87      0.79      1250\n",
      "weighted avg       0.96      0.94      0.95      1250\n",
      "\n"
     ]
    }
   ],
   "source": [
    "print(ps_report)"
   ]
  },
  {
   "cell_type": "markdown",
   "id": "b2c257ae",
   "metadata": {},
   "source": [
    "## Comparison"
   ]
  },
  {
   "cell_type": "markdown",
   "id": "d2ad2add",
   "metadata": {},
   "source": [
    "### The pytorch optimization seems to be better than the evolutionary optimizations. But with respect to the evalutionary algorithm optimization all seems to perform nearly equal"
   ]
  }
 ],
 "metadata": {
  "kernelspec": {
   "display_name": "Python 3 (ipykernel)",
   "language": "python",
   "name": "python3"
  },
  "language_info": {
   "codemirror_mode": {
    "name": "ipython",
    "version": 3
   },
   "file_extension": ".py",
   "mimetype": "text/x-python",
   "name": "python",
   "nbconvert_exporter": "python",
   "pygments_lexer": "ipython3",
   "version": "3.9.12"
  }
 },
 "nbformat": 4,
 "nbformat_minor": 5
}
